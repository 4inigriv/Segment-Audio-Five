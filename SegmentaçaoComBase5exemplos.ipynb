{
  "nbformat": 4,
  "nbformat_minor": 0,
  "metadata": {
    "colab": {
      "provenance": [],
      "include_colab_link": true
    },
    "kernelspec": {
      "name": "python3",
      "display_name": "Python 3"
    },
    "language_info": {
      "name": "python"
    }
  },
  "cells": [
    {
      "cell_type": "markdown",
      "metadata": {
        "id": "view-in-github",
        "colab_type": "text"
      },
      "source": [
        "<a href=\"https://colab.research.google.com/github/4inigriv/Segmenta-oFiveShots/blob/main/Segmenta%C3%A7aoComBase5exemplos.ipynb\" target=\"_parent\"><img src=\"https://colab.research.google.com/assets/colab-badge.svg\" alt=\"Open In Colab\"/></a>"
      ]
    },
    {
      "cell_type": "code",
      "source": [
        "import librosa\n",
        "import numpy as np\n",
        "import sklearn\n",
        "import skimage\n",
        "import os\n",
        "import csv\n",
        "import pickle\n",
        "from skimage.feature import match_template\n",
        "from scipy.signal import find_peaks\n",
        "import argparse\n",
        "import soundfile as sf\n",
        "from scipy.signal import istft\n",
        "from IPython.display import Audio"
      ],
      "metadata": {
        "id": "Vb5ppmrfMnk6"
      },
      "execution_count": null,
      "outputs": []
    },
    {
      "cell_type": "code",
      "source": [
        "!pip install pydub"
      ],
      "metadata": {
        "colab": {
          "base_uri": "https://localhost:8080/"
        },
        "id": "4DBdA01kYcQf",
        "outputId": "3b1aa080-6b7b-4379-c23a-ddddddf9ea6a"
      },
      "execution_count": null,
      "outputs": [
        {
          "output_type": "stream",
          "name": "stdout",
          "text": [
            "Collecting pydub\n",
            "  Downloading pydub-0.25.1-py2.py3-none-any.whl (32 kB)\n",
            "Installing collected packages: pydub\n",
            "Successfully installed pydub-0.25.1\n"
          ]
        }
      ]
    },
    {
      "cell_type": "code",
      "source": [
        "from google.colab import drive\n",
        "drive.mount('/content/drive')"
      ],
      "metadata": {
        "id": "p4iINmXAN-eM",
        "outputId": "093835eb-4203-4f12-a308-62401f3b3c40",
        "colab": {
          "base_uri": "https://localhost:8080/"
        }
      },
      "execution_count": null,
      "outputs": [
        {
          "output_type": "stream",
          "name": "stdout",
          "text": [
            "Mounted at /content/drive\n"
          ]
        }
      ]
    },
    {
      "cell_type": "code",
      "source": [
        "import soundfile as sf\n",
        "import numpy as np\n",
        "\n",
        "# Caminhos completos para os dois arquivos de áudio\n",
        "caminho_arquivo_audio1 = '/content/drive/MyDrive/Cobra/SonsPassaros/AracuaPantanal -  Ortalis canicollis/XC351098-aracuã-do-pantanal-Ortalis-canicollis-pantanalensis-_ssp-assumed-from-location__1.wav' #audio fixo\n",
        "caminho_arquivo_variosPassaros = '/content/drive/MyDrive/Cobra/SonsPassaros/CincoAves/GralhaAracuaChororoInambuQueroquero.wav' #juntar manualmente os audios\n",
        "# Carregar os áudios\n",
        "audio1, sr1 = sf.read(caminho_arquivo_audio1)\n",
        "audio2, sr2 = sf.read(caminho_arquivo_variosPassaros)\n"
      ],
      "metadata": {
        "id": "VR2hn3fkSzSd"
      },
      "execution_count": null,
      "outputs": []
    },
    {
      "cell_type": "code",
      "source": [
        "#concatenar AUDIOS\n",
        "import wave\n",
        "\n",
        "infiles = [caminho_arquivo_audio1, caminho_arquivo_variosPassaros]\n",
        "outfile = \"/content/drive/MyDrive/output_NewAudio.wav\"\n",
        "\n",
        "data= []\n",
        "for infile in infiles:\n",
        "    w = wave.open(infile, 'rb')\n",
        "    data.append( [w.getparams(), w.readframes(w.getnframes())] )\n",
        "    w.close()\n",
        "\n",
        "output = wave.open(outfile, 'wb')\n",
        "output.setparams(data[0][0])\n",
        "for i in range(len(data)):\n",
        "    output.writeframes(data[i][1])\n",
        "output.close()"
      ],
      "metadata": {
        "id": "bhhKtrLTpZ61"
      },
      "execution_count": null,
      "outputs": []
    },
    {
      "cell_type": "code",
      "source": [
        "# Carregar o áudio\n",
        "y, sr = librosa.load(outfile)\n",
        "\n",
        "# duração do áudio em segundos\n",
        "duracao = librosa.get_duration(y=y, sr=sr)\n",
        "\n",
        "print(\"A duração do áudio é:\", duracao, \"segundos\")"
      ],
      "metadata": {
        "colab": {
          "base_uri": "https://localhost:8080/"
        },
        "id": "1l_f8v3hTWWW",
        "outputId": "e9021cd6-d249-4554-bb3e-5b32a71c108f"
      },
      "execution_count": null,
      "outputs": [
        {
          "output_type": "stream",
          "name": "stdout",
          "text": [
            "A duração do áudio é: 69.94013605442177 segundos\n"
          ]
        }
      ]
    },
    {
      "cell_type": "code",
      "source": [
        "#Calcula a transformada de fourier\n",
        "forma_de_onda, sr = librosa.load(outfile, sr = None)\n",
        "nfft=int(sr/10)\n",
        "hop_len = int(nfft/4)\n",
        "stft = np.abs(librosa.stft(forma_de_onda, n_fft=nfft, hop_length=hop_len, window='hann', pad_mode='reflect'))"
      ],
      "metadata": {
        "id": "3dE7vnOETaUV"
      },
      "execution_count": null,
      "outputs": []
    },
    {
      "cell_type": "code",
      "execution_count": null,
      "metadata": {
        "id": "aXoftp4MNtsH"
      },
      "outputs": [],
      "source": [
        "#REDUÇÃO DE RUÍDO\n",
        "#lembrar de utilizar wavelet\n",
        "\n",
        "stft_mediana = np.median(stft, axis=-1, keepdims=True)\n",
        "stft_tempo_mediana = np.median(stft, axis=0, keepdims=True)\n",
        "norm_stft = stft - stft_mediana\n",
        "norm_stft = norm_stft - stft_tempo_mediana\n",
        "\n",
        "audio = librosa.istft(norm_stft) #função q facilita transformar a matriz em onda p ouvir o audio"
      ]
    },
    {
      "cell_type": "code",
      "source": [
        "#eventos de interesse dentro do seu áudio (escritos manualmente)\n",
        "eventos = [\n",
        "    (1.10, 1.13),\n",
        "    (1.40, 1.42),\n",
        "    (1.50, 1.51),\n",
        "    (1.57, 1.58)\n",
        "]\n",
        "#arrumar os seg\n",
        "#verificar como ele recebe os intervalos (qual unidade)"
      ],
      "metadata": {
        "id": "zt1J6Ieab9P3"
      },
      "execution_count": null,
      "outputs": []
    },
    {
      "cell_type": "code",
      "source": [
        "# Seção de STFT a ser usada para previsão; inicia após o tempo final do último evento do modelo\n",
        "to_predict = norm_stft[:, int(np.ceil(float(eventos[-1][-2])*sr/hop_len + 1)):]"
      ],
      "metadata": {
        "id": "q_UUDGGJH9wc"
      },
      "execution_count": null,
      "outputs": []
    },
    {
      "cell_type": "markdown",
      "source": [],
      "metadata": {
        "id": "WA2lo7HtUUOz"
      }
    },
    {
      "cell_type": "code",
      "source": [
        "#resultados das SIMILARIDADES encontradas dentro do audio\n",
        "\n",
        "import numpy as np\n",
        "import matplotlib.pyplot as plt\n",
        "\n",
        "resultado = []\n",
        "for evento in eventos:\n",
        "    tempo_inicial = float(evento[1])\n",
        "    tempo_final = float(evento[-1])\n",
        "    evento_stft = norm_stft[2:-2, int(np.floor(tempo_inicial * sr / hop_len + 1)):int(np.ceil(tempo_final * sr / hop_len + 1))]\n",
        "\n",
        "    # Verificar se o tamanho do evento_stft é menor do que o tamanho de to_predict\n",
        "    if evento_stft.shape[1] <= to_predict.shape[1]:\n",
        "        resultado.append(match_template(to_predict, evento_stft))\n",
        "    else:\n",
        "        print(\"O evento_stft é maior do que to_predict e não pode ser usado como template.\") #perdendo o final do audio pq tem que ser menor >.<\n",
        "\n",
        "#matriz de resultados dos eventos de interesse\n",
        "print(resultado) #veja a quantidade de elementos, e oqnt esta retornando\n",
        "print(len(resultado))"
      ],
      "metadata": {
        "id": "A3-q913fQwXt",
        "colab": {
          "base_uri": "https://localhost:8080/"
        },
        "outputId": "db77c675-3e20-4230-f554-6d539e60073f"
      },
      "execution_count": null,
      "outputs": [
        {
          "output_type": "stream",
          "name": "stdout",
          "text": [
            "[array([[ 0.22375017,  0.41932052,  0.3808324 , ...,  0.07885331,\n",
            "        -0.15688683,  0.32673785],\n",
            "       [ 0.45849466,  0.6522824 ,  0.52015966, ...,  0.085518  ,\n",
            "        -0.08981849,  0.28717333],\n",
            "       [ 0.88216823,  0.936119  ,  0.8684959 , ...,  0.37753722,\n",
            "         0.08224799,  0.24028832],\n",
            "       [ 0.95058095,  0.9579958 ,  0.9519506 , ...,  0.72774655,\n",
            "         0.24099612,  0.54531145],\n",
            "       [ 0.8230526 ,  0.72042304,  0.9045713 , ...,  0.6921572 ,\n",
            "         0.49594283,  0.5874418 ]], dtype=float32), array([[0.2097616 , 0.33299252, 0.26054928, ..., 0.20512721, 0.10427694,\n",
            "        0.38280964],\n",
            "       [0.5416382 , 0.57722527, 0.51463187, ..., 0.2525646 , 0.19007196,\n",
            "        0.26343048],\n",
            "       [0.48624626, 0.37778744, 0.4791896 , ..., 0.4989722 , 0.20117004,\n",
            "        0.4194496 ],\n",
            "       [0.31451347, 0.29479596, 0.3131635 , ..., 0.4611933 , 0.47434762,\n",
            "        0.5123004 ],\n",
            "       [0.4613415 , 0.5956493 , 0.38360307, ..., 0.23002252, 0.19534566,\n",
            "        0.26029548]], dtype=float32), array([[ 0.19887537,  0.47692207,  0.35133892, ..., -0.037421  ,\n",
            "        -0.20902579,  0.27840903],\n",
            "       [ 0.67571133,  0.8432837 ,  0.7090997 , ...,  0.10523415,\n",
            "        -0.10066767,  0.21945469],\n",
            "       [ 0.9297595 ,  0.8862143 ,  0.92638475, ...,  0.528815  ,\n",
            "         0.07880789,  0.35700348],\n",
            "       [ 0.8415685 ,  0.8146986 ,  0.84605587, ...,  0.7426828 ,\n",
            "         0.35646507,  0.5955847 ],\n",
            "       [ 0.7621078 ,  0.75623065,  0.7775446 , ...,  0.59273255,\n",
            "         0.390496  ,  0.46377718]], dtype=float32), array([[ 0.27100778,  0.5526624 ,  0.44169292, ..., -0.04776083,\n",
            "        -0.28992653,  0.2584787 ],\n",
            "       [ 0.71128553,  0.88971615,  0.7587837 , ...,  0.11026166,\n",
            "        -0.15759072,  0.21780942],\n",
            "       [ 1.0000017 ,  0.9706333 ,  0.993228  , ...,  0.5389047 ,\n",
            "         0.05218804,  0.32646894],\n",
            "       [ 0.91427135,  0.8852847 ,  0.9206533 , ...,  0.7964768 ,\n",
            "         0.31132895,  0.59476274],\n",
            "       [ 0.741392  ,  0.696049  ,  0.78783906, ...,  0.66504914,\n",
            "         0.4085782 ,  0.5021494 ]], dtype=float32)]\n",
            "4\n"
          ]
        }
      ]
    },
    {
      "cell_type": "code",
      "source": [
        "#MR armazena o resultado MAXIMO de comparaçao entre os eventos\n",
        "from skimage.feature import match_template\n",
        "mr = []\n",
        "for i in range(len(eventos)):\n",
        "    evento = eventos[i]\n",
        "    tempo_inicial = float(evento[1])\n",
        "    tempo_final = float(evento[-1])\n",
        "    evento_stft = norm_stft[2:-2, int(np.floor(tempo_inicial * sr / hop_len + 1)):int(np.ceil(tempo_final * sr / hop_len + 1))]\n",
        "\n",
        "    r = []\n",
        "    for j in range(len(eventos)):\n",
        "        if j != i:\n",
        "            evento_interno = eventos[j]\n",
        "            tempo_inicial_interno = float(evento_interno[0])\n",
        "            tempo_final_interno = float(evento_interno[1])\n",
        "            evento_interno_stft = norm_stft[2:-2, int(np.floor(tempo_inicial_interno * sr / hop_len + 1)):int(np.ceil(tempo_final_interno * sr / hop_len + 1))]\n",
        "\n",
        "            if evento_interno_stft.shape[1] >= evento_stft.shape[1]:\n",
        "                r.append(np.max(match_template(evento_interno_stft, evento_stft)))\n",
        "    if r:\n",
        "        mr.append(np.max(r))\n",
        "print(\"medida numérica de quão semelhantes são os eventos comparados na lista eventos:\",mr)"
      ],
      "metadata": {
        "colab": {
          "base_uri": "https://localhost:8080/"
        },
        "id": "s3obN4HASXy6",
        "outputId": "b2728dd4-6209-4ad4-9ef6-46cda14ddfd4"
      },
      "execution_count": null,
      "outputs": [
        {
          "output_type": "stream",
          "name": "stdout",
          "text": [
            "medida numérica de quão semelhantes são os eventos comparados na lista eventos: [0.91546255, 0.63361776, 0.9297595, 0.9297586]\n"
          ]
        }
      ]
    },
    {
      "cell_type": "code",
      "source": [
        "#pega o maior valor de mr para achar o limiar\n",
        "limiar = np.max(mr)\n",
        "print(\"o numero MAIS semalhante que mais se aproxima de 1:\", limiar)"
      ],
      "metadata": {
        "colab": {
          "base_uri": "https://localhost:8080/"
        },
        "id": "R-WBDzpYTOv0",
        "outputId": "e6d470a6-b2f8-4195-be43-a6cefbc24d06"
      },
      "execution_count": null,
      "outputs": [
        {
          "output_type": "stream",
          "name": "stdout",
          "text": [
            "o numero MAIS semalhante que mais se aproxima de 1: 0.9297595\n"
          ]
        }
      ]
    },
    {
      "cell_type": "code",
      "source": [
        "from scipy.signal import find_peaks #Encontre picos dentro de um sinal\n",
        "\n",
        "# Seleção de picos no vetor de resultados de match_template, transformando picos em 1 e o resto em 0\n",
        "resultado_binario = []\n",
        "rmax = []\n",
        "for i in range(len(resultado)):\n",
        "    tamanho_evento = int(np.ceil(np.floor(float(eventos[i][1]) * sr / hop_len + 1))) - int(np.floor(float(eventos[i][-1]) * sr / hop_len))\n",
        "    rmax = np.zeros(resultado[i].shape[1])\n",
        "    picos, _ = find_peaks(np.max(resultado[i], axis=0), height=limiar, distance = tamanho_evento)\n",
        "    rmax[picos] = 1\n",
        "    resultado_binario.append(rmax)\n",
        "\n",
        "print(resultado_binario)\n"
      ],
      "metadata": {
        "colab": {
          "base_uri": "https://localhost:8080/"
        },
        "id": "WELSQE2vTm1R",
        "outputId": "4ee76d1f-b66b-42bd-913f-2a6b2947f813"
      },
      "execution_count": null,
      "outputs": [
        {
          "output_type": "stream",
          "name": "stdout",
          "text": [
            "[array([0., 1., 0., ..., 0., 0., 0.]), array([0., 0., 0., ..., 0., 0., 0.]), array([0., 0., 0., ..., 0., 0., 0.]), array([0., 0., 1., ..., 0., 0., 0.])]\n"
          ]
        }
      ]
    },
    {
      "cell_type": "code",
      "source": [
        "to_write = []\n",
        "# sobreposição das previsões do resultado_binario\n",
        "for i in range(1, len(resultado_binario)):\n",
        "    # Converter os tempos de início e fim para pontos flutuantes\n",
        "    tempo_inicial = float(eventos[i][0])\n",
        "    tempo_final = float(eventos[i][1])\n",
        "\n",
        "    # Extrair o STFT do evento com base nos tempos de início e fim\n",
        "    stft_evento = norm_stft[2:-2, int(np.floor(tempo_inicial * sr / hop_len + 1)):int(np.ceil(tempo_final * sr / hop_len + 1))]\n",
        "\n",
        "    # Calcular o comprimento do evento em número de frames\n",
        "    comprimento_evento = int(stft_evento.shape[1])\n",
        "\n",
        "    # Calcular a quantidade de preenchimento necessário para a esquerda (lpad) e direita (rpad)\n",
        "    lpad = int(np.floor(comprimento_evento / 2))\n",
        "    rpad = int(comprimento_evento - lpad - 1)\n",
        "\n",
        "    # Encontrar os índices onde as previsões binárias são iguais a 1\n",
        "    indices = np.where(resultado_binario[i] == 1)[0]\n",
        "\n",
        "    # Soma dos resultados\n",
        "    resultado_binario[0] += resultado_binario[i]\n",
        "\n",
        "resultado_final = resultado_binario[0]\n",
        "resultado_final[resultado_final > 0] = 1\n",
        "\n",
        "# transformando quadros de tempo em segundos nas previsões\n",
        "startind = np.where(resultado_final[:-1] - resultado_final[1:] == -1)[0]\n",
        "endind = np.where(resultado_final[:-1] - resultado_final[1:] == 1)[0]\n",
        "\n",
        "# preenchendo a lista to_write com os resultados previstos\n",
        "for i in range(len(startind)):\n",
        "    to_write.append([audio, startind[i] * hop_len / sr, endind[i] * hop_len / sr])"
      ],
      "metadata": {
        "id": "wKmHdirZXJtX"
      },
      "execution_count": null,
      "outputs": []
    },
    {
      "cell_type": "code",
      "source": [
        "print(startind)\n",
        "print(endind)"
      ],
      "metadata": {
        "id": "9AcwVG0JmiWX",
        "colab": {
          "base_uri": "https://localhost:8080/"
        },
        "outputId": "1a7082ac-084f-41d7-ab8d-d882f302250f"
      },
      "execution_count": null,
      "outputs": [
        {
          "output_type": "stream",
          "name": "stdout",
          "text": [
            "[   0    3    6    9   13   19   22   26   28   31   34  532  538  547\n",
            "  562  572  578  583  598  631  637  642  654  661  664 1125 1137 1147\n",
            " 1247 1256 1259 1264 1279 1290 1491 1498 1532 1534 1540 1542 1548 1716\n",
            " 2290 2293 2297 2462 2472 2474 2477 2482 2486 2489 2494 2497 2500 2502\n",
            " 2505 2520 2525 2531 2535 2541]\n",
            "[   2    5    8   10   16   20   25   27   29   32   35  533  539  548\n",
            "  563  573  582  584  599  633  638  643  655  662  665 1126 1138 1148\n",
            " 1248 1257 1260 1265 1280 1291 1492 1499 1533 1535 1541 1543 1549 1717\n",
            " 2291 2294 2298 2463 2473 2475 2478 2483 2487 2490 2495 2498 2501 2503\n",
            " 2506 2521 2526 2532 2536 2542]\n"
          ]
        }
      ]
    },
    {
      "cell_type": "code",
      "source": [
        "# Imprimir os pares de índices de início e fim\n",
        "print(\"Pares de índices de início e fim dos eventos:\")\n",
        "for start, end in zip(startind, endind):\n",
        "    print(\"[{}, {}]\".format(start, end))"
      ],
      "metadata": {
        "colab": {
          "base_uri": "https://localhost:8080/"
        },
        "id": "YQRPF6AvAsIq",
        "outputId": "343c18c5-4e5c-4a95-d94a-4f404cfe026c"
      },
      "execution_count": null,
      "outputs": [
        {
          "output_type": "stream",
          "name": "stdout",
          "text": [
            "Pares de índices de início e fim dos eventos:\n",
            "[0, 2]\n",
            "[3, 5]\n",
            "[6, 8]\n",
            "[9, 10]\n",
            "[13, 16]\n",
            "[19, 20]\n",
            "[22, 25]\n",
            "[26, 27]\n",
            "[28, 29]\n",
            "[31, 32]\n",
            "[34, 35]\n",
            "[532, 533]\n",
            "[538, 539]\n",
            "[547, 548]\n",
            "[562, 563]\n",
            "[572, 573]\n",
            "[578, 582]\n",
            "[583, 584]\n",
            "[598, 599]\n",
            "[631, 633]\n",
            "[637, 638]\n",
            "[642, 643]\n",
            "[654, 655]\n",
            "[661, 662]\n",
            "[664, 665]\n",
            "[1125, 1126]\n",
            "[1137, 1138]\n",
            "[1147, 1148]\n",
            "[1247, 1248]\n",
            "[1256, 1257]\n",
            "[1259, 1260]\n",
            "[1264, 1265]\n",
            "[1279, 1280]\n",
            "[1290, 1291]\n",
            "[1491, 1492]\n",
            "[1498, 1499]\n",
            "[1532, 1533]\n",
            "[1534, 1535]\n",
            "[1540, 1541]\n",
            "[1542, 1543]\n",
            "[1548, 1549]\n",
            "[1716, 1717]\n",
            "[2290, 2291]\n",
            "[2293, 2294]\n",
            "[2297, 2298]\n",
            "[2462, 2463]\n",
            "[2472, 2473]\n",
            "[2474, 2475]\n",
            "[2477, 2478]\n",
            "[2482, 2483]\n",
            "[2486, 2487]\n",
            "[2489, 2490]\n",
            "[2494, 2495]\n",
            "[2497, 2498]\n",
            "[2500, 2501]\n",
            "[2502, 2503]\n",
            "[2505, 2506]\n",
            "[2520, 2521]\n",
            "[2525, 2526]\n",
            "[2531, 2532]\n",
            "[2535, 2536]\n",
            "[2541, 2542]\n"
          ]
        }
      ]
    },
    {
      "cell_type": "code",
      "source": [
        "print(to_write)"
      ],
      "metadata": {
        "colab": {
          "base_uri": "https://localhost:8080/"
        },
        "id": "ui8aZktEnqBj",
        "outputId": "ef824541-cf18-4d2d-ce3f-f3c97a1379c2"
      },
      "execution_count": null,
      "outputs": [
        {
          "output_type": "stream",
          "name": "stdout",
          "text": [
            "[[array([-0.00100884, -0.00093818, -0.00089488, ...,  0.00088215,\n",
            "        0.0011301 ,  0.00132649], dtype=float32), 0.0, 0.049977324263038546], [array([-0.00100884, -0.00093818, -0.00089488, ...,  0.00088215,\n",
            "        0.0011301 ,  0.00132649], dtype=float32), 0.07496598639455783, 0.12494331065759637], [array([-0.00100884, -0.00093818, -0.00089488, ...,  0.00088215,\n",
            "        0.0011301 ,  0.00132649], dtype=float32), 0.14993197278911566, 0.19990929705215418], [array([-0.00100884, -0.00093818, -0.00089488, ...,  0.00088215,\n",
            "        0.0011301 ,  0.00132649], dtype=float32), 0.22489795918367347, 0.24988662131519274], [array([-0.00100884, -0.00093818, -0.00089488, ...,  0.00088215,\n",
            "        0.0011301 ,  0.00132649], dtype=float32), 0.32485260770975055, 0.39981859410430837], [array([-0.00100884, -0.00093818, -0.00089488, ...,  0.00088215,\n",
            "        0.0011301 ,  0.00132649], dtype=float32), 0.47478458049886624, 0.4997732426303855], [array([-0.00100884, -0.00093818, -0.00089488, ...,  0.00088215,\n",
            "        0.0011301 ,  0.00132649], dtype=float32), 0.549750566893424, 0.6247165532879818], [array([-0.00100884, -0.00093818, -0.00089488, ...,  0.00088215,\n",
            "        0.0011301 ,  0.00132649], dtype=float32), 0.6497052154195011, 0.6746938775510204], [array([-0.00100884, -0.00093818, -0.00089488, ...,  0.00088215,\n",
            "        0.0011301 ,  0.00132649], dtype=float32), 0.6996825396825397, 0.724671201814059], [array([-0.00100884, -0.00093818, -0.00089488, ...,  0.00088215,\n",
            "        0.0011301 ,  0.00132649], dtype=float32), 0.7746485260770976, 0.7996371882086167], [array([-0.00100884, -0.00093818, -0.00089488, ...,  0.00088215,\n",
            "        0.0011301 ,  0.00132649], dtype=float32), 0.8496145124716553, 0.8746031746031746], [array([-0.00100884, -0.00093818, -0.00089488, ...,  0.00088215,\n",
            "        0.0011301 ,  0.00132649], dtype=float32), 13.293968253968254, 13.318956916099774], [array([-0.00100884, -0.00093818, -0.00089488, ...,  0.00088215,\n",
            "        0.0011301 ,  0.00132649], dtype=float32), 13.44390022675737, 13.46888888888889], [array([-0.00100884, -0.00093818, -0.00089488, ...,  0.00088215,\n",
            "        0.0011301 ,  0.00132649], dtype=float32), 13.668798185941043, 13.693786848072563], [array([-0.00100884, -0.00093818, -0.00089488, ...,  0.00088215,\n",
            "        0.0011301 ,  0.00132649], dtype=float32), 14.043628117913832, 14.068616780045351], [array([-0.00100884, -0.00093818, -0.00089488, ...,  0.00088215,\n",
            "        0.0011301 ,  0.00132649], dtype=float32), 14.293514739229025, 14.318503401360545], [array([-0.00100884, -0.00093818, -0.00089488, ...,  0.00088215,\n",
            "        0.0011301 ,  0.00132649], dtype=float32), 14.44344671201814, 14.543401360544218], [array([-0.00100884, -0.00093818, -0.00089488, ...,  0.00088215,\n",
            "        0.0011301 ,  0.00132649], dtype=float32), 14.568390022675738, 14.593378684807256], [array([-0.00100884, -0.00093818, -0.00089488, ...,  0.00088215,\n",
            "        0.0011301 ,  0.00132649], dtype=float32), 14.943219954648526, 14.968208616780045], [array([-0.00100884, -0.00093818, -0.00089488, ...,  0.00088215,\n",
            "        0.0011301 ,  0.00132649], dtype=float32), 15.767845804988662, 15.817823129251702], [array([-0.00100884, -0.00093818, -0.00089488, ...,  0.00088215,\n",
            "        0.0011301 ,  0.00132649], dtype=float32), 15.917777777777777, 15.942766439909297], [array([-0.00100884, -0.00093818, -0.00089488, ...,  0.00088215,\n",
            "        0.0011301 ,  0.00132649], dtype=float32), 16.042721088435375, 16.067709750566895], [array([-0.00100884, -0.00093818, -0.00089488, ...,  0.00088215,\n",
            "        0.0011301 ,  0.00132649], dtype=float32), 16.342585034013606, 16.367573696145126], [array([-0.00100884, -0.00093818, -0.00089488, ...,  0.00088215,\n",
            "        0.0011301 ,  0.00132649], dtype=float32), 16.51750566893424, 16.54249433106576], [array([-0.00100884, -0.00093818, -0.00089488, ...,  0.00088215,\n",
            "        0.0011301 ,  0.00132649], dtype=float32), 16.592471655328797, 16.617460317460317], [array([-0.00100884, -0.00093818, -0.00089488, ...,  0.00088215,\n",
            "        0.0011301 ,  0.00132649], dtype=float32), 28.112244897959183, 28.137233560090703], [array([-0.00100884, -0.00093818, -0.00089488, ...,  0.00088215,\n",
            "        0.0011301 ,  0.00132649], dtype=float32), 28.412108843537414, 28.437097505668934], [array([-0.00100884, -0.00093818, -0.00089488, ...,  0.00088215,\n",
            "        0.0011301 ,  0.00132649], dtype=float32), 28.66199546485261, 28.686984126984125], [array([-0.00100884, -0.00093818, -0.00089488, ...,  0.00088215,\n",
            "        0.0011301 ,  0.00132649], dtype=float32), 31.160861678004537, 31.185850340136053], [array([-0.00100884, -0.00093818, -0.00089488, ...,  0.00088215,\n",
            "        0.0011301 ,  0.00132649], dtype=float32), 31.385759637188208, 31.410748299319728], [array([-0.00100884, -0.00093818, -0.00089488, ...,  0.00088215,\n",
            "        0.0011301 ,  0.00132649], dtype=float32), 31.460725623582768, 31.485714285714284], [array([-0.00100884, -0.00093818, -0.00089488, ...,  0.00088215,\n",
            "        0.0011301 ,  0.00132649], dtype=float32), 31.585668934240363, 31.610657596371883], [array([-0.00100884, -0.00093818, -0.00089488, ...,  0.00088215,\n",
            "        0.0011301 ,  0.00132649], dtype=float32), 31.96049886621315, 31.98548752834467], [array([-0.00100884, -0.00093818, -0.00089488, ...,  0.00088215,\n",
            "        0.0011301 ,  0.00132649], dtype=float32), 32.23537414965986, 32.26036281179138], [array([-0.00100884, -0.00093818, -0.00089488, ...,  0.00088215,\n",
            "        0.0011301 ,  0.00132649], dtype=float32), 37.25809523809524, 37.28308390022676], [array([-0.00100884, -0.00093818, -0.00089488, ...,  0.00088215,\n",
            "        0.0011301 ,  0.00132649], dtype=float32), 37.433015873015876, 37.458004535147396], [array([-0.00100884, -0.00093818, -0.00089488, ...,  0.00088215,\n",
            "        0.0011301 ,  0.00132649], dtype=float32), 38.28263038548753, 38.30761904761905], [array([-0.00100884, -0.00093818, -0.00089488, ...,  0.00088215,\n",
            "        0.0011301 ,  0.00132649], dtype=float32), 38.33260770975057, 38.35759637188209], [array([-0.00100884, -0.00093818, -0.00089488, ...,  0.00088215,\n",
            "        0.0011301 ,  0.00132649], dtype=float32), 38.48253968253968, 38.5075283446712], [array([-0.00100884, -0.00093818, -0.00089488, ...,  0.00088215,\n",
            "        0.0011301 ,  0.00132649], dtype=float32), 38.53251700680272, 38.55750566893424], [array([-0.00100884, -0.00093818, -0.00089488, ...,  0.00088215,\n",
            "        0.0011301 ,  0.00132649], dtype=float32), 38.68244897959184, 38.70743764172336], [array([-0.00100884, -0.00093818, -0.00089488, ...,  0.00088215,\n",
            "        0.0011301 ,  0.00132649], dtype=float32), 42.880544217687074, 42.905532879818594], [array([-0.00100884, -0.00093818, -0.00089488, ...,  0.00088215,\n",
            "        0.0011301 ,  0.00132649], dtype=float32), 57.22403628117914, 57.24902494331066], [array([-0.00100884, -0.00093818, -0.00089488, ...,  0.00088215,\n",
            "        0.0011301 ,  0.00132649], dtype=float32), 57.2990022675737, 57.32399092970522], [array([-0.00100884, -0.00093818, -0.00089488, ...,  0.00088215,\n",
            "        0.0011301 ,  0.00132649], dtype=float32), 57.39895691609977, 57.42394557823129], [array([-0.00100884, -0.00093818, -0.00089488, ...,  0.00088215,\n",
            "        0.0011301 ,  0.00132649], dtype=float32), 61.52208616780045, 61.54707482993197], [array([-0.00100884, -0.00093818, -0.00089488, ...,  0.00088215,\n",
            "        0.0011301 ,  0.00132649], dtype=float32), 61.771972789115644, 61.796961451247164], [array([-0.00100884, -0.00093818, -0.00089488, ...,  0.00088215,\n",
            "        0.0011301 ,  0.00132649], dtype=float32), 61.82195011337868, 61.8469387755102], [array([-0.00100884, -0.00093818, -0.00089488, ...,  0.00088215,\n",
            "        0.0011301 ,  0.00132649], dtype=float32), 61.89691609977324, 61.92190476190476], [array([-0.00100884, -0.00093818, -0.00089488, ...,  0.00088215,\n",
            "        0.0011301 ,  0.00132649], dtype=float32), 62.02185941043084, 62.046848072562355], [array([-0.00100884, -0.00093818, -0.00089488, ...,  0.00088215,\n",
            "        0.0011301 ,  0.00132649], dtype=float32), 62.121814058956915, 62.146802721088434], [array([-0.00100884, -0.00093818, -0.00089488, ...,  0.00088215,\n",
            "        0.0011301 ,  0.00132649], dtype=float32), 62.196780045351474, 62.221768707482994], [array([-0.00100884, -0.00093818, -0.00089488, ...,  0.00088215,\n",
            "        0.0011301 ,  0.00132649], dtype=float32), 62.32172335600907, 62.346712018140586], [array([-0.00100884, -0.00093818, -0.00089488, ...,  0.00088215,\n",
            "        0.0011301 ,  0.00132649], dtype=float32), 62.396689342403626, 62.421678004535146], [array([-0.00100884, -0.00093818, -0.00089488, ...,  0.00088215,\n",
            "        0.0011301 ,  0.00132649], dtype=float32), 62.471655328798185, 62.496643990929705], [array([-0.00100884, -0.00093818, -0.00089488, ...,  0.00088215,\n",
            "        0.0011301 ,  0.00132649], dtype=float32), 62.521632653061225, 62.546621315192745], [array([-0.00100884, -0.00093818, -0.00089488, ...,  0.00088215,\n",
            "        0.0011301 ,  0.00132649], dtype=float32), 62.596598639455785, 62.621587301587304], [array([-0.00100884, -0.00093818, -0.00089488, ...,  0.00088215,\n",
            "        0.0011301 ,  0.00132649], dtype=float32), 62.97142857142857, 62.99641723356009], [array([-0.00100884, -0.00093818, -0.00089488, ...,  0.00088215,\n",
            "        0.0011301 ,  0.00132649], dtype=float32), 63.09637188208617, 63.12136054421769], [array([-0.00100884, -0.00093818, -0.00089488, ...,  0.00088215,\n",
            "        0.0011301 ,  0.00132649], dtype=float32), 63.246303854875286, 63.271292517006806], [array([-0.00100884, -0.00093818, -0.00089488, ...,  0.00088215,\n",
            "        0.0011301 ,  0.00132649], dtype=float32), 63.34625850340136, 63.37124716553288], [array([-0.00100884, -0.00093818, -0.00089488, ...,  0.00088215,\n",
            "        0.0011301 ,  0.00132649], dtype=float32), 63.49619047619048, 63.521179138322]]\n"
          ]
        }
      ]
    },
    {
      "cell_type": "code",
      "source": [],
      "metadata": {
        "id": "3EZ3JjgnoiTN"
      },
      "execution_count": null,
      "outputs": []
    },
    {
      "cell_type": "code",
      "source": [
        "os.remove(outfile)"
      ],
      "metadata": {
        "id": "0MMMd-QZrlcl"
      },
      "execution_count": null,
      "outputs": []
    }
  ]
}